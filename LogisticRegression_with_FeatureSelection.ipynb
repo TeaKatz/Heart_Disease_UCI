{
 "cells": [
  {
   "cell_type": "code",
   "execution_count": 1,
   "metadata": {},
   "outputs": [],
   "source": [
    "import pandas as pd\n",
    "from libs.libs import evaluation, backward_selection, create_polynomial\n",
    "from sklearn.model_selection import train_test_split\n",
    "from sklearn.preprocessing import StandardScaler, OneHotEncoder\n",
    "from sklearn.linear_model import LogisticRegression"
   ]
  },
  {
   "cell_type": "markdown",
   "metadata": {},
   "source": [
    "# Load dataset"
   ]
  },
  {
   "cell_type": "code",
   "execution_count": 2,
   "metadata": {},
   "outputs": [],
   "source": [
    "# Load dataset\n",
    "data_dir = \"dataset/heart.csv\"\n",
    "dataset = pd.read_csv(data_dir)\n",
    "\n",
    "# Ensure data types\n",
    "numerical_features = [\"age\", \"trestbps\", \"chol\", \"thalach\", \"oldpeak\"]\n",
    "categorical_features = [\"exang\", \"fbs\", \"sex\", \"cp\", \"restecg\", \"slope\", \"ca\", \"thal\"]\n",
    "response = \"target\""
   ]
  },
  {
   "cell_type": "markdown",
   "metadata": {},
   "source": [
    "# Split train test"
   ]
  },
  {
   "cell_type": "code",
   "execution_count": 3,
   "metadata": {},
   "outputs": [
    {
     "name": "stdout",
     "output_type": "stream",
     "text": [
      "train_set: (242, 14)\n",
      "test_set: (61, 14)\n"
     ]
    }
   ],
   "source": [
    "# Train-test split\n",
    "train_set, test_set = train_test_split(dataset, test_size=0.2, random_state=42, stratify=dataset[response])\n",
    "\n",
    "# Predictors-response split\n",
    "y_train = train_set[response]\n",
    "x_train = train_set.drop([response], axis=1)\n",
    "\n",
    "#test_set = pd.DataFrame(test_set.values, columns=test_set.columns)\n",
    "y_test = test_set[response]\n",
    "x_test = test_set.drop([response], axis=1)\n",
    "\n",
    "print(\"train_set: {}\".format(train_set.shape))\n",
    "print(\"test_set: {}\".format(test_set.shape))"
   ]
  },
  {
   "cell_type": "markdown",
   "metadata": {},
   "source": [
    "# Preprocessing training dataset"
   ]
  },
  {
   "cell_type": "code",
   "execution_count": 4,
   "metadata": {},
   "outputs": [],
   "source": [
    "std_scaler = StandardScaler()\n",
    "\n",
    "std_scaler.fit(x_train[numerical_features])\n",
    "\n",
    "x_numerical = std_scaler.transform(x_train[numerical_features])\n",
    "x_numerical = pd.DataFrame(x_numerical, columns=numerical_features, dtype=\"float64\")"
   ]
  },
  {
   "cell_type": "code",
   "execution_count": 5,
   "metadata": {},
   "outputs": [],
   "source": [
    "encoder = OneHotEncoder(categories=\"auto\", drop=\"first\")\n",
    "\n",
    "encoder.fit(x_train[categorical_features])\n",
    "\n",
    "x_categorical = encoder.transform(x_train[categorical_features])\n",
    "\n",
    "# Get feature names\n",
    "feature_names = encoder.get_feature_names(categorical_features)\n",
    "# Remove dropped columns\n",
    "feature_names = [feature_name for feature_name in encoder.get_feature_names(categorical_features) if \"_0\" not in feature_name]\n",
    "\n",
    "x_categorical = pd.DataFrame(x_categorical.toarray(), columns=feature_names, dtype=\"int8\")"
   ]
  },
  {
   "cell_type": "code",
   "execution_count": 6,
   "metadata": {},
   "outputs": [],
   "source": [
    "x_train_processed = pd.concat([x_numerical, x_categorical], axis=1)\n",
    "\n",
    "# Create polynomial features\n",
    "x_train_polynomial = create_polynomial(x_train_processed[numerical_features], degree=2, interaction=False)\n",
    "x_train_polynomial = pd.concat([x_train_processed, x_train_polynomial], axis=1)"
   ]
  },
  {
   "cell_type": "markdown",
   "metadata": {},
   "source": [
    "# Find importance features using forward-backward selection"
   ]
  },
  {
   "cell_type": "code",
   "execution_count": 7,
   "metadata": {},
   "outputs": [
    {
     "name": "stdout",
     "output_type": "stream",
     "text": [
      "['trestbps', 'oldpeak', 'exang_1', 'sex_1', 'cp_2', 'cp_3', 'slope_1', 'ca_1', 'thal_3', 'oldpeak^2']\n"
     ]
    }
   ],
   "source": [
    "features = backward_selection(x_train_polynomial, y_train, keep_first=False)\n",
    "print(features)"
   ]
  },
  {
   "cell_type": "markdown",
   "metadata": {},
   "source": [
    "# Train model with importance features"
   ]
  },
  {
   "cell_type": "code",
   "execution_count": 8,
   "metadata": {},
   "outputs": [
    {
     "name": "stdout",
     "output_type": "stream",
     "text": [
      "Train set accuracy: 89.67%\n",
      "Validation set accuracy: 87.67%\n",
      "R_squared: 58.33%\n"
     ]
    },
    {
     "data": {
      "image/png": "[encoded data removed]",
      "text/plain": [
       "<Figure size 648x648 with 1 Axes>"
      ]
     },
     "metadata": {
      "needs_background": "light"
     },
     "output_type": "display_data"
    }
   ],
   "source": [
    "logis_reg = LogisticRegression(solver=\"lbfgs\", C=1e10, max_iter=1000)\n",
    "_ = evaluation(logis_reg, x_train_polynomial[features], y_train)"
   ]
  },
  {
   "cell_type": "markdown",
   "metadata": {},
   "source": [
    "# Preprocessing testing dataset"
   ]
  },
  {
   "cell_type": "code",
   "execution_count": 9,
   "metadata": {},
   "outputs": [],
   "source": [
    "x_numerical = std_scaler.transform(x_test[numerical_features])\n",
    "x_numerical = pd.DataFrame(x_numerical, columns=numerical_features, dtype=\"float64\")"
   ]
  },
  {
   "cell_type": "code",
   "execution_count": 10,
   "metadata": {},
   "outputs": [],
   "source": [
    "x_categorical = encoder.transform(x_test[categorical_features])\n",
    "\n",
    "# Get feature names\n",
    "feature_names = encoder.get_feature_names(categorical_features)\n",
    "# Remove dropped columns\n",
    "feature_names = [feature_name for feature_name in encoder.get_feature_names(categorical_features) if \"_0\" not in feature_name]\n",
    "\n",
    "x_categorical = pd.DataFrame(x_categorical.toarray(), columns=feature_names, dtype=\"int8\")"
   ]
  },
  {
   "cell_type": "code",
   "execution_count": 11,
   "metadata": {},
   "outputs": [],
   "source": [
    "x_test_processed = pd.concat([x_numerical, x_categorical], axis=1)\n",
    "\n",
    "# Create polynomial features\n",
    "x_test_polynomial = create_polynomial(x_test_processed[numerical_features], degree=2, interaction=False)\n",
    "x_test_polynomial = pd.concat([x_test_processed, x_test_polynomial], axis=1)"
   ]
  },
  {
   "cell_type": "code",
   "execution_count": 12,
   "metadata": {},
   "outputs": [
    {
     "name": "stdout",
     "output_type": "stream",
     "text": [
      "Test set accuracy: 80.33\n"
     ]
    }
   ],
   "source": [
    "acc = logis_reg.score(x_test_polynomial[features], y_test)\n",
    "print(\"Test set accuracy: {:.2f}\".format(acc * 100))"
   ]
  },
  {
   "cell_type": "code",
   "execution_count": null,
   "metadata": {},
   "outputs": [],
   "source": []
  }
 ],
 "metadata": {
  "kernelspec": {
   "display_name": "Python 3",
   "language": "python",
   "name": "python3"
  },
  "language_info": {
   "codemirror_mode": {
    "name": "ipython",
    "version": 3
   },
   "file_extension": ".py",
   "mimetype": "text/x-python",
   "name": "python",
   "nbconvert_exporter": "python",
   "pygments_lexer": "ipython3",
   "version": "3.6.8"
  }
 },
 "nbformat": 4,
 "nbformat_minor": 2
}
