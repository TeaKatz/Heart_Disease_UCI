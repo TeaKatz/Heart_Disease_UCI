{
 "cells": [
  {
   "cell_type": "code",
   "execution_count": 79,
   "metadata": {},
   "outputs": [],
   "source": [
    "import pandas as pd\n",
    "import numpy as np\n",
    "import seaborn as sns\n",
    "from matplotlib import pyplot as plt\n",
    "from libs import libs\n",
    "from sklearn.model_selection import train_test_split, GridSearchCV, cross_val_score\n",
    "from sklearn.preprocessing import StandardScaler, OneHotEncoder\n",
    "from sklearn.linear_model import LogisticRegression, LinearRegression\n",
    "from sklearn.ensemble import RandomForestClassifier"
   ]
  },
  {
   "cell_type": "markdown",
   "metadata": {},
   "source": [
    "# 1. Load dataset"
   ]
  },
  {
   "cell_type": "code",
   "execution_count": 2,
   "metadata": {},
   "outputs": [
    {
     "name": "stdout",
     "output_type": "stream",
     "text": [
      "dataset shape: (303, 14)\n"
     ]
    }
   ],
   "source": [
    "data_dir = \"dataset/heart.csv\"\n",
    "dataset = pd.read_csv(data_dir)\n",
    "\n",
    "print(\"dataset shape: {}\".format(dataset.shape))"
   ]
  },
  {
   "cell_type": "markdown",
   "metadata": {},
   "source": [
    "# 2. Split train test"
   ]
  },
  {
   "cell_type": "code",
   "execution_count": 3,
   "metadata": {},
   "outputs": [
    {
     "name": "stdout",
     "output_type": "stream",
     "text": [
      "train_set: (242, 14)\n",
      "test_set: (61, 14)\n"
     ]
    }
   ],
   "source": [
    "train_set, test_set = train_test_split(dataset, test_size=0.2, random_state=42)\n",
    "\n",
    "train_set = pd.DataFrame(train_set.values, columns=train_set.columns)\n",
    "test_set = pd.DataFrame(test_set.values, columns=test_set.columns)\n",
    "\n",
    "print(\"train_set: {}\".format(train_set.shape))\n",
    "print(\"test_set: {}\".format(test_set.shape))"
   ]
  },
  {
   "cell_type": "markdown",
   "metadata": {},
   "source": [
    "# 3. Preprocessing data"
   ]
  },
  {
   "cell_type": "markdown",
   "metadata": {},
   "source": [
    "## 3.1 Numerical"
   ]
  },
  {
   "cell_type": "code",
   "execution_count": 4,
   "metadata": {},
   "outputs": [],
   "source": [
    "numerical_columns = [\"age\", \"trestbps\", \"chol\", \"thalach\", \"oldpeak\"]\n",
    "\n",
    "train_numerical_set = train_set[numerical_columns]\n",
    "\n",
    "std_scaler = StandardScaler()\n",
    "std_scaler.fit(train_numerical_set)\n",
    "train_set_normalized = std_scaler.transform(train_numerical_set)\n",
    "\n",
    "train_set_normalized = pd.DataFrame(train_set_normalized, columns=numerical_columns)"
   ]
  },
  {
   "cell_type": "markdown",
   "metadata": {},
   "source": [
    "## 3.2 Categorical"
   ]
  },
  {
   "cell_type": "markdown",
   "metadata": {},
   "source": [
    "### 3.2.1 Binary"
   ]
  },
  {
   "cell_type": "code",
   "execution_count": 5,
   "metadata": {},
   "outputs": [],
   "source": [
    "binary_columns = [\"exang\", \"fbs\", \"sex\", \"target\"]\n",
    "\n",
    "train_binary_set = train_set[binary_columns]"
   ]
  },
  {
   "cell_type": "markdown",
   "metadata": {},
   "source": [
    "### 3.2.2 Multi class"
   ]
  },
  {
   "cell_type": "code",
   "execution_count": 6,
   "metadata": {},
   "outputs": [],
   "source": [
    "multiclass_columns = [\"cp\", \"restecg\", \"slope\", \"ca\", \"thal\"]\n",
    "\n",
    "train_multiclass_set = train_set[multiclass_columns]\n",
    "\n",
    "encoder = OneHotEncoder(categories=\"auto\")\n",
    "encoder.fit(train_multiclass_set)\n",
    "train_set_encoded = encoder.transform(train_multiclass_set)\n",
    "\n",
    "train_set_encoded = pd.DataFrame(train_set_encoded.toarray(), columns=encoder.get_feature_names(multiclass_columns))"
   ]
  },
  {
   "cell_type": "markdown",
   "metadata": {},
   "source": [
    "## 3.3 Merge"
   ]
  },
  {
   "cell_type": "code",
   "execution_count": 7,
   "metadata": {},
   "outputs": [],
   "source": [
    "train_set_processed = pd.concat([train_set_normalized, train_binary_set, train_set_encoded], axis=1)\n",
    "\n",
    "y_train = train_set_processed[\"target\"]\n",
    "x_train = train_set_processed.drop([\"target\"], axis=1)"
   ]
  },
  {
   "cell_type": "markdown",
   "metadata": {},
   "source": [
    "# 4. Get default accuracy"
   ]
  },
  {
   "cell_type": "code",
   "execution_count": 8,
   "metadata": {},
   "outputs": [
    {
     "name": "stdout",
     "output_type": "stream",
     "text": [
      "Cross validation accuracies: [0.79591837 0.89795918 0.79591837 0.91666667 0.78723404]\n",
      "Accuracy mean: 83.87%\n",
      "R_sqaured: 58.36%\n"
     ]
    }
   ],
   "source": [
    "# Fit logistic regression model to dataset without using regularization\n",
    "logis_reg = LogisticRegression(solver=\"lbfgs\", C=1e10, max_iter=1000)\n",
    "score = cross_val_score(logis_reg, x_train, y_train, cv=5, scoring=\"accuracy\")\n",
    "R_squared = libs.R_squared(x_train, y_train)\n",
    "print(\"Cross validation accuracies: {}\".format(score))\n",
    "print(\"Accuracy mean: {:.2f}%\".format(np.mean(score) * 100))\n",
    "print(\"R_sqaured: {:.2f}%\".format(R_squared * 100))"
   ]
  },
  {
   "cell_type": "markdown",
   "metadata": {},
   "source": [
    "# 5. Removing collinearity"
   ]
  },
  {
   "cell_type": "code",
   "execution_count": 19,
   "metadata": {},
   "outputs": [],
   "source": [
    "# Implement function to calculate TSS\n",
    "def TSS(y):\n",
    "    return np.sum(np.square(y - np.mean(y)))\n",
    "\n",
    "# Implement function to calculate RSS\n",
    "def RSS(y, y_hat):\n",
    "    return np.sum(np.square(y - y_hat))\n",
    "\n",
    "# Implement function to calculate R_squared\n",
    "def R_square(y, y_hat):\n",
    "    return 1 - RSS(y, y_hat) / TSS(y)"
   ]
  },
  {
   "cell_type": "code",
   "execution_count": 21,
   "metadata": {},
   "outputs": [
    {
     "data": {
      "image/png": "[encoded data removed]",
      "text/plain": [
       "<Figure size 576x432 with 2 Axes>"
      ]
     },
     "metadata": {
      "needs_background": "light"
     },
     "output_type": "display_data"
    }
   ],
   "source": [
    "x_train_numerical = x_train.iloc[:, 0:5]\n",
    "numerical_columns = x_train_numerical.columns.values\n",
    "R_squared_matrix = [[0 for i in range(len(numerical_columns))] for j in range(len(numerical_columns))]\n",
    "\n",
    "# Regression each feature to others features and calculate R_squared,\n",
    "# to see if one feature can explain another feature quite well, therefore, they are consider collinearity.\n",
    "for i in range(len(numerical_columns)):\n",
    "    for j in range(len(numerical_columns)):\n",
    "        x = x_train_numerical[numerical_columns[i]].values.reshape(-1, 1)\n",
    "        y = x_train_numerical[numerical_columns[j]].values\n",
    "        # Regression one feature to another\n",
    "        linear_reg = LinearRegression()\n",
    "        linear_reg.fit(x, y)\n",
    "        y_hat = linear_reg.predict(x)\n",
    "        # Calculate R_squared\n",
    "        R_squared = R_square(y, y_hat)\n",
    "        R_squared_matrix[i][j] = R_squared\n",
    "        \n",
    "R_squared_matrix = pd.DataFrame(R_squared_matrix, columns=numerical_columns)\n",
    "R_squared_matrix.rename(index={i: name for i, name in enumerate(numerical_columns)}, inplace=True)\n",
    "plt.subplots(figsize=(8, 6))\n",
    "sns.heatmap(R_squared_matrix, annot=True)\n",
    "plt.show()"
   ]
  },
  {
   "cell_type": "markdown",
   "metadata": {},
   "source": [
    "### There is no collinearity in numerical predictors."
   ]
  },
  {
   "cell_type": "markdown",
   "metadata": {},
   "source": [
    "# 6. F-test\n",
    "\\begin{equation}\n",
    "F = \\frac{(LSS(overall) - LSS(fit)) / p}{LSS(fit) / (n - p - 1)}\n",
    "\\tag{1}\n",
    "\\end{equation}\n",
    "\n",
    "\\begin{equation}\n",
    "LSS(fit) = \\sum_{i=1}^{n} y_i*log(\\hat{y_i}) + (1 - y_i)*log(1 - \\hat{y_i})\n",
    "\\tag{2}\n",
    "\\end{equation}\n",
    "\n",
    "\\begin{equation}\n",
    "LSS(overall) = \\sum_{i=1}^{n} y_i*log(\\frac{len(where(y_i == 1))}{len(y_i)}) + (1 - y_i)*log(1 - \\frac{len(where(y_i == 1))}{len(y_i)})\n",
    "\\tag{3}\n",
    "\\end{equation}\n",
    "\n",
    "When  \n",
    "n: is numbers of observation    \n",
    "p: is numbers of predictor"
   ]
  },
  {
   "cell_type": "code",
   "execution_count": 10,
   "metadata": {},
   "outputs": [
    {
     "name": "stdout",
     "output_type": "stream",
     "text": [
      "LSS_overall: -166.55\n",
      "LSS_fit: -69.36\n",
      "F-test score is 11.11, that is more than 5, therefore, there is relationship between predictors and response.\n"
     ]
    }
   ],
   "source": [
    "libs.F_test(x_train, y_train)"
   ]
  },
  {
   "cell_type": "markdown",
   "metadata": {},
   "source": [
    "### From the result of F-test above, F-statistic value is more than 1, hence this indicate that there is relationship between predictors and response."
   ]
  },
  {
   "cell_type": "markdown",
   "metadata": {},
   "source": [
    "# 7. Feature selection"
   ]
  },
  {
   "cell_type": "markdown",
   "metadata": {},
   "source": [
    "## 7.1 Using Tree's feature important"
   ]
  },
  {
   "cell_type": "code",
   "execution_count": 11,
   "metadata": {},
   "outputs": [
    {
     "name": "stdout",
     "output_type": "stream",
     "text": [
      "Best param: {'n_estimators': 14}\n",
      "Best score: 0.8388429752066116\n"
     ]
    },
    {
     "name": "stderr",
     "output_type": "stream",
     "text": [
      "C:\\Users\\Acer\\Anaconda3\\envs\\tf\\lib\\site-packages\\sklearn\\model_selection\\_search.py:841: DeprecationWarning: The default of the `iid` parameter will change from True to False in version 0.22 and will be removed in 0.24. This will change numeric results when test-set sizes are unequal.\n",
      "  DeprecationWarning)\n"
     ]
    }
   ],
   "source": [
    "# Get best parameter for random forst model\n",
    "param_grid = {\"n_estimators\": list(range(10, 100, 2))}\n",
    "forest_clf = RandomForestClassifier(random_state=42)\n",
    "\n",
    "clf = GridSearchCV(forest_clf, param_grid, cv=5)\n",
    "clf.fit(x_train, y_train)\n",
    "print(\"Best param: {}\".format(clf.best_params_))\n",
    "print(\"Best score: {}\".format(clf.best_score_))"
   ]
  },
  {
   "cell_type": "code",
   "execution_count": 18,
   "metadata": {},
   "outputs": [
    {
     "data": {
      "image/png": "[encoded data removed]",
      "text/plain": [
       "<Figure size 648x648 with 1 Axes>"
      ]
     },
     "metadata": {
      "needs_background": "light"
     },
     "output_type": "display_data"
    }
   ],
   "source": [
    "# Get important festures\n",
    "feature_importants = pd.Series(clf.best_estimator_.feature_importances_, index=x_train.columns)\n",
    "feature_importants_sorted = feature_importants.sort_values(ascending=False)\n",
    "feature_importants_sorted.plot(kind=\"barh\", figsize=(9, 9))\n",
    "plt.title(\"Feature importants\")\n",
    "plt.show()"
   ]
  },
  {
   "cell_type": "code",
   "execution_count": 22,
   "metadata": {},
   "outputs": [
    {
     "name": "stdout",
     "output_type": "stream",
     "text": [
      "Cross validation accuracies: [0.81632653 0.89795918 0.79591837 0.91666667 0.78723404]\n",
      "Accuracy mean: 84.28%\n",
      "R_sqaured: 58.36%\n"
     ]
    }
   ],
   "source": [
    "# Drop 0% important features\n",
    "important_score = 0.0\n",
    "features_name = []\n",
    "for column in feature_importants_sorted.index:\n",
    "    important_score += feature_importants_sorted.loc[column]\n",
    "    if important_score >= 1.0:\n",
    "        break\n",
    "    else:\n",
    "        features_name.append(column)\n",
    "\n",
    "new_x_train = x_train.loc[:, features_name]\n",
    "\n",
    "# Fit linear regression model with only important features\n",
    "logis_reg = LogisticRegression(solver=\"lbfgs\", C=1e10, max_iter=1000)\n",
    "score = cross_val_score(logis_reg, new_x_train, y_train, cv=5, scoring=\"accuracy\")\n",
    "R_squared = libs.R_squared(new_x_train, y_train)\n",
    "print(\"Cross validation accuracies: {}\".format(score))\n",
    "print(\"Accuracy mean: {:.2f}%\".format(np.mean(score) * 100))\n",
    "print(\"R_sqaured: {:.2f}%\".format(R_squared * 100))"
   ]
  },
  {
   "cell_type": "markdown",
   "metadata": {},
   "source": [
    "## 7.2 Using Subset selection"
   ]
  },
  {
   "cell_type": "markdown",
   "metadata": {},
   "source": [
    "### 7.2.1 Best subset selection"
   ]
  },
  {
   "cell_type": "code",
   "execution_count": null,
   "metadata": {},
   "outputs": [],
   "source": []
  },
  {
   "cell_type": "markdown",
   "metadata": {},
   "source": [
    "### 7.2.2 Forward stepwise selection"
   ]
  },
  {
   "cell_type": "code",
   "execution_count": 77,
   "metadata": {},
   "outputs": [],
   "source": [
    "def forward_selection(x, y):\n",
    "    # Add best feature that provide best R^2 value to the model one at a time,\n",
    "    # and remember each batch of features from p=1 to P (P: number of all features)\n",
    "    features = list(x.columns.values)\n",
    "    best_features_batchs = {\"0\": []}\n",
    "    max_R_squared_batchs = {\"0\": 0}\n",
    "    \n",
    "    number_of_features = x.shape[1]\n",
    "    for p in range(1, number_of_features + 1):\n",
    "        max_R_squared_feature = None\n",
    "        for candidate_feature in features:\n",
    "            if len(best_features_batchs) == 0:\n",
    "                try_features = [candidate_feature]\n",
    "            else:\n",
    "                # Add candidate feature to the last best_batch_features\n",
    "                try_features = best_features_batchs[str(p - 1)] + [candidate_feature]\n",
    "                \n",
    "            try_x = x[try_features].values\n",
    "            if try_x.ndim == 1:\n",
    "                try_x = try_x.reshape(-1, 1)\n",
    "            \n",
    "            # Calculate R^2\n",
    "            logis_reg = LogisticRegression(solver=\"lbfgs\", C=1e10, max_iter=1000)\n",
    "            logis_reg.fit(try_x, y)\n",
    "            y_hat = logis_reg.predict(try_x)\n",
    "            R_squared = R_square(y, y_hat)\n",
    "            \n",
    "            # Get maximum R^2 feature\n",
    "            if R_squared > max_R_squared_batchs[str(p - 1)]:\n",
    "                max_R_squared = R_squared\n",
    "                max_R_squared_feature = candidate_feature\n",
    "        \n",
    "        # If there is no more improve then stop it\n",
    "        print(\"Improvement: {}\".format(max_R_squared - max_batch_R_squared[str(p - 1)]))\n",
    "        if max_R_squared > 0:\n",
    "            # Remove maximum R^2 feature from features list\n",
    "            features.remove(max_R_squared_feature)\n",
    "            # Remember current best batch feature\n",
    "            best_features_batchs[str(p)] = best_features_batchs[str(p - 1)] + [max_R_squared_feature]\n",
    "            max_R_squared_batchs[str(p)] = max_R_squared\n",
    "            print(best_features_batchs[str(p)])\n",
    "            print(max_R_squared_batchs[str(p)])\n",
    "            print(\"-------------------------\")\n",
    "        else:\n",
    "            break"
   ]
  },
  {
   "cell_type": "code",
   "execution_count": 78,
   "metadata": {},
   "outputs": [
    {
     "name": "stdout",
     "output_type": "stream",
     "text": [
      "Improvement: 0.015106573773884358\n",
      "['thal_2.0']\n",
      "0.015106573773884358\n",
      "-------------------------\n",
      "Improvement: 0.08346554459543354\n",
      "['thal_2.0', 'oldpeak']\n",
      "0.0985721183693179\n",
      "-------------------------\n",
      "Improvement: 0.11685176243360684\n",
      "['thal_2.0', 'oldpeak', 'ca_0.0']\n",
      "0.21542388080292474\n",
      "-------------------------\n",
      "Improvement: 0.13354487135269366\n",
      "['thal_2.0', 'oldpeak', 'ca_0.0', 'cp_0.0']\n",
      "0.3489687521556184\n",
      "-------------------------\n",
      "Improvement: 0.08346554459543354\n",
      "['thal_2.0', 'oldpeak', 'ca_0.0', 'cp_0.0', 'exang']\n",
      "0.43243429675105194\n",
      "-------------------------\n",
      "Improvement: 0.0\n",
      "['thal_2.0', 'oldpeak', 'ca_0.0', 'cp_0.0', 'exang', 'age']\n",
      "0.43243429675105194\n",
      "-------------------------\n",
      "Improvement: 0.016693108919086708\n",
      "['thal_2.0', 'oldpeak', 'ca_0.0', 'cp_0.0', 'exang', 'age', 'sex']\n",
      "0.44912740567013865\n",
      "-------------------------\n",
      "Improvement: 0.016693108919086708\n",
      "['thal_2.0', 'oldpeak', 'ca_0.0', 'cp_0.0', 'exang', 'age', 'sex', 'trestbps']\n",
      "0.46582051458922535\n",
      "-------------------------\n",
      "Improvement: 0.016693108919086708\n",
      "['thal_2.0', 'oldpeak', 'ca_0.0', 'cp_0.0', 'exang', 'age', 'sex', 'trestbps', 'slope_0.0']\n",
      "0.48251362350831206\n",
      "-------------------------\n",
      "Improvement: 0.0\n",
      "['thal_2.0', 'oldpeak', 'ca_0.0', 'cp_0.0', 'exang', 'age', 'sex', 'trestbps', 'slope_0.0', 'cp_3.0']\n",
      "0.48251362350831206\n",
      "-------------------------\n",
      "Improvement: 0.0\n",
      "['thal_2.0', 'oldpeak', 'ca_0.0', 'cp_0.0', 'exang', 'age', 'sex', 'trestbps', 'slope_0.0', 'cp_3.0', 'slope_1.0']\n",
      "0.48251362350831206\n",
      "-------------------------\n",
      "Improvement: 0.05007932675726012\n",
      "['thal_2.0', 'oldpeak', 'ca_0.0', 'cp_0.0', 'exang', 'age', 'sex', 'trestbps', 'slope_0.0', 'cp_3.0', 'slope_1.0', 'cp_1.0']\n",
      "0.5325929502655722\n",
      "-------------------------\n",
      "Improvement: 0.016693108919086708\n",
      "['thal_2.0', 'oldpeak', 'ca_0.0', 'cp_0.0', 'exang', 'age', 'sex', 'trestbps', 'slope_0.0', 'cp_3.0', 'slope_1.0', 'cp_1.0', 'ca_4.0']\n",
      "0.5492860591846589\n",
      "-------------------------\n",
      "Improvement: 0.0\n",
      "['thal_2.0', 'oldpeak', 'ca_0.0', 'cp_0.0', 'exang', 'age', 'sex', 'trestbps', 'slope_0.0', 'cp_3.0', 'slope_1.0', 'cp_1.0', 'ca_4.0', 'thalach']\n",
      "0.5492860591846589\n",
      "-------------------------\n",
      "Improvement: 0.0\n",
      "['thal_2.0', 'oldpeak', 'ca_0.0', 'cp_0.0', 'exang', 'age', 'sex', 'trestbps', 'slope_0.0', 'cp_3.0', 'slope_1.0', 'cp_1.0', 'ca_4.0', 'thalach', 'cp_2.0']\n",
      "0.5492860591846589\n",
      "-------------------------\n",
      "Improvement: 0.0\n",
      "['thal_2.0', 'oldpeak', 'ca_0.0', 'cp_0.0', 'exang', 'age', 'sex', 'trestbps', 'slope_0.0', 'cp_3.0', 'slope_1.0', 'cp_1.0', 'ca_4.0', 'thalach', 'cp_2.0', 'restecg_0.0']\n",
      "0.5492860591846589\n",
      "-------------------------\n",
      "Improvement: 0.016693108919086708\n",
      "['thal_2.0', 'oldpeak', 'ca_0.0', 'cp_0.0', 'exang', 'age', 'sex', 'trestbps', 'slope_0.0', 'cp_3.0', 'slope_1.0', 'cp_1.0', 'ca_4.0', 'thalach', 'cp_2.0', 'restecg_0.0', 'thal_1.0']\n",
      "0.5659791681037456\n",
      "-------------------------\n",
      "Improvement: 0.0\n",
      "['thal_2.0', 'oldpeak', 'ca_0.0', 'cp_0.0', 'exang', 'age', 'sex', 'trestbps', 'slope_0.0', 'cp_3.0', 'slope_1.0', 'cp_1.0', 'ca_4.0', 'thalach', 'cp_2.0', 'restecg_0.0', 'thal_1.0', 'chol']\n",
      "0.5659791681037456\n",
      "-------------------------\n",
      "Improvement: 0.0\n",
      "['thal_2.0', 'oldpeak', 'ca_0.0', 'cp_0.0', 'exang', 'age', 'sex', 'trestbps', 'slope_0.0', 'cp_3.0', 'slope_1.0', 'cp_1.0', 'ca_4.0', 'thalach', 'cp_2.0', 'restecg_0.0', 'thal_1.0', 'chol', 'restecg_1.0']\n",
      "0.5659791681037456\n",
      "-------------------------\n",
      "Improvement: 0.0\n",
      "['thal_2.0', 'oldpeak', 'ca_0.0', 'cp_0.0', 'exang', 'age', 'sex', 'trestbps', 'slope_0.0', 'cp_3.0', 'slope_1.0', 'cp_1.0', 'ca_4.0', 'thalach', 'cp_2.0', 'restecg_0.0', 'thal_1.0', 'chol', 'restecg_1.0', 'fbs']\n",
      "0.5659791681037456\n",
      "-------------------------\n",
      "Improvement: 0.0\n",
      "['thal_2.0', 'oldpeak', 'ca_0.0', 'cp_0.0', 'exang', 'age', 'sex', 'trestbps', 'slope_0.0', 'cp_3.0', 'slope_1.0', 'cp_1.0', 'ca_4.0', 'thalach', 'cp_2.0', 'restecg_0.0', 'thal_1.0', 'chol', 'restecg_1.0', 'fbs', 'restecg_2.0']\n",
      "0.5659791681037456\n",
      "-------------------------\n",
      "Improvement: 0.0\n",
      "['thal_2.0', 'oldpeak', 'ca_0.0', 'cp_0.0', 'exang', 'age', 'sex', 'trestbps', 'slope_0.0', 'cp_3.0', 'slope_1.0', 'cp_1.0', 'ca_4.0', 'thalach', 'cp_2.0', 'restecg_0.0', 'thal_1.0', 'chol', 'restecg_1.0', 'fbs', 'restecg_2.0', 'slope_2.0']\n",
      "0.5659791681037456\n",
      "-------------------------\n",
      "Improvement: 0.0\n",
      "['thal_2.0', 'oldpeak', 'ca_0.0', 'cp_0.0', 'exang', 'age', 'sex', 'trestbps', 'slope_0.0', 'cp_3.0', 'slope_1.0', 'cp_1.0', 'ca_4.0', 'thalach', 'cp_2.0', 'restecg_0.0', 'thal_1.0', 'chol', 'restecg_1.0', 'fbs', 'restecg_2.0', 'slope_2.0', 'ca_1.0']\n",
      "0.5659791681037456\n",
      "-------------------------\n",
      "Improvement: 0.0\n",
      "['thal_2.0', 'oldpeak', 'ca_0.0', 'cp_0.0', 'exang', 'age', 'sex', 'trestbps', 'slope_0.0', 'cp_3.0', 'slope_1.0', 'cp_1.0', 'ca_4.0', 'thalach', 'cp_2.0', 'restecg_0.0', 'thal_1.0', 'chol', 'restecg_1.0', 'fbs', 'restecg_2.0', 'slope_2.0', 'ca_1.0', 'thal_0.0']\n",
      "0.5659791681037456\n",
      "-------------------------\n",
      "Improvement: 0.0\n",
      "['thal_2.0', 'oldpeak', 'ca_0.0', 'cp_0.0', 'exang', 'age', 'sex', 'trestbps', 'slope_0.0', 'cp_3.0', 'slope_1.0', 'cp_1.0', 'ca_4.0', 'thalach', 'cp_2.0', 'restecg_0.0', 'thal_1.0', 'chol', 'restecg_1.0', 'fbs', 'restecg_2.0', 'slope_2.0', 'ca_1.0', 'thal_0.0', 'thal_3.0']\n",
      "0.5659791681037456\n",
      "-------------------------\n",
      "Improvement: -0.05007932675726012\n",
      "['thal_2.0', 'oldpeak', 'ca_0.0', 'cp_0.0', 'exang', 'age', 'sex', 'trestbps', 'slope_0.0', 'cp_3.0', 'slope_1.0', 'cp_1.0', 'ca_4.0', 'thalach', 'cp_2.0', 'restecg_0.0', 'thal_1.0', 'chol', 'restecg_1.0', 'fbs', 'restecg_2.0', 'slope_2.0', 'ca_1.0', 'thal_0.0', 'thal_3.0', 'ca_2.0']\n",
      "0.5158998413464855\n",
      "-------------------------\n",
      "Improvement: 0.0\n",
      "['thal_2.0', 'oldpeak', 'ca_0.0', 'cp_0.0', 'exang', 'age', 'sex', 'trestbps', 'slope_0.0', 'cp_3.0', 'slope_1.0', 'cp_1.0', 'ca_4.0', 'thalach', 'cp_2.0', 'restecg_0.0', 'thal_1.0', 'chol', 'restecg_1.0', 'fbs', 'restecg_2.0', 'slope_2.0', 'ca_1.0', 'thal_0.0', 'thal_3.0', 'ca_2.0', 'ca_3.0']\n",
      "0.5158998413464855\n",
      "-------------------------\n"
     ]
    }
   ],
   "source": [
    "batch_features = forward_selection(x_train, y_train)"
   ]
  },
  {
   "cell_type": "code",
   "execution_count": 22,
   "metadata": {},
   "outputs": [],
   "source": [
    "features = list(x_train.columns.values)\n",
    "selected_features = []\n",
    "max_score_features = []\n",
    "\n",
    "while(1):\n",
    "    max_R_squared = 0\n",
    "    max_R_squared_feature = None\n",
    "    # For loop for all feature that left\n",
    "    for feature in features:\n",
    "        # Assemble features to feed to model\n",
    "        try_features = selected_features + [feature]\n",
    "        # Calculate R^2\n",
    "        logis_reg = LogisticRegression(solver=\"lbfgs\", C=1e10, max_iter=1000)\n",
    "        logis_reg.fit(x_train[try_features], y_train)\n",
    "        y_hat = logis_reg.predict(x_train[try_features])\n",
    "        R_squared = R_square(y_train, y_hat)\n",
    "        # Get maximum R^2 feature\n",
    "        if R_squared > max_R_squared:\n",
    "            max_R_squared = R_squared\n",
    "            max_R_squared_feature = feature\n",
    "\n",
    "    if max_R_squared > 0:\n",
    "        # Remove maximum R^2 feature from features list\n",
    "        features.remove(max_R_squared_feature)\n",
    "        # Append maximum R^2 feature to selected feature list\n",
    "        selected_features.append(max_R_squared_feature)\n",
    "        # Add selected features to max_score_features\n",
    "        max_score_features.append(selected_features.copy())\n",
    "    else:\n",
    "        break"
   ]
  },
  {
   "cell_type": "code",
   "execution_count": 27,
   "metadata": {},
   "outputs": [
    {
     "name": "stdout",
     "output_type": "stream",
     "text": [
      "Accuracy mean: 85.53%\n",
      "Number of features: 9\n",
      "Best features: ['thal_2.0', 'oldpeak', 'ca_0.0', 'cp_0.0', 'exang', 'age', 'sex', 'trestbps', 'slope_0.0']\n"
     ]
    },
    {
     "data": {
      "image/png": "[encoded data removed]",
      "text/plain": [
       "<Figure size 648x648 with 1 Axes>"
      ]
     },
     "metadata": {
      "needs_background": "light"
     },
     "output_type": "display_data"
    }
   ],
   "source": [
    "# Get cross validation score for each batch of features\n",
    "best_features = None\n",
    "best_score = 0\n",
    "for features in max_score_features:\n",
    "    new_x_train = x_train.loc[:, features]\n",
    "    \n",
    "    logis_reg = LogisticRegression(solver=\"lbfgs\", C=1e10, max_iter=1000)\n",
    "    score = cross_val_score(logis_reg, new_x_train, y_train, cv=10, scoring=\"accuracy\")\n",
    "    \n",
    "    logis_reg = LogisticRegression(solver=\"lbfgs\", C=1e10, max_iter=1000)\n",
    "    logis_reg.fit(new_x_train, y_train)\n",
    "    y_hat = logis_reg.predict(new_x_train)\n",
    "    R_squared = R_square(y_train, y_hat)\n",
    "    \n",
    "    if np.mean(score) > best_score:\n",
    "        best_score = np.mean(score)\n",
    "        best_features = features\n",
    "        \n",
    "print(\"Accuracy mean: {:.2f}%\".format(best_score * 100))\n",
    "print(\"Number of features: {}\".format(len(best_features)))\n",
    "print(\"Best features: {}\".format(best_features))\n",
    "\n",
    "# Show important festures\n",
    "logis_reg = LogisticRegression(solver=\"lbfgs\", C=1e10, max_iter=1000)\n",
    "logis_reg.fit(x_train[best_features], y_train)\n",
    "\n",
    "feature_importants = pd.Series(logis_reg.coef_.ravel(), index=x_train[best_features].columns)\n",
    "feature_importants_sorted = feature_importants.sort_values(ascending=False)\n",
    "feature_importants_sorted.plot(kind=\"barh\", figsize=(9, 9))\n",
    "plt.title(\"Feature importants\")\n",
    "plt.show()"
   ]
  },
  {
   "cell_type": "markdown",
   "metadata": {},
   "source": [
    "### 7.2.3 Backward stepwise selection"
   ]
  },
  {
   "cell_type": "code",
   "execution_count": null,
   "metadata": {},
   "outputs": [],
   "source": []
  },
  {
   "cell_type": "markdown",
   "metadata": {},
   "source": [
    "### 7.2.4 Hybrid appoaches"
   ]
  },
  {
   "cell_type": "code",
   "execution_count": null,
   "metadata": {},
   "outputs": [],
   "source": []
  },
  {
   "cell_type": "markdown",
   "metadata": {},
   "source": [
    "## 7.3 Using l1 regularization"
   ]
  },
  {
   "cell_type": "code",
   "execution_count": 69,
   "metadata": {},
   "outputs": [
    {
     "name": "stdout",
     "output_type": "stream",
     "text": [
      "Best param: {'C': 4}\n",
      "Best score: 0.8429752066115702\n"
     ]
    },
    {
     "name": "stderr",
     "output_type": "stream",
     "text": [
      "C:\\Users\\Acer\\Anaconda3\\envs\\tf\\lib\\site-packages\\sklearn\\model_selection\\_search.py:841: DeprecationWarning: The default of the `iid` parameter will change from True to False in version 0.22 and will be removed in 0.24. This will change numeric results when test-set sizes are unequal.\n",
      "  DeprecationWarning)\n"
     ]
    }
   ],
   "source": [
    "# Get best parameter for random forst model\n",
    "param_grid = {\"C\": list(range(1, 100, 1))}\n",
    "logis_reg = LogisticRegression(penalty=\"l1\" ,solver=\"saga\", max_iter=100000)\n",
    "\n",
    "clf = GridSearchCV(logis_reg, param_grid, cv=5)\n",
    "clf.fit(x_train, y_train)\n",
    "print(\"Best param: {}\".format(clf.best_params_))\n",
    "print(\"Best score: {}\".format(clf.best_score_))"
   ]
  },
  {
   "cell_type": "code",
   "execution_count": 70,
   "metadata": {},
   "outputs": [
    {
     "data": {
      "image/png": "[encoded data removed]",
      "text/plain": [
       "<Figure size 648x648 with 1 Axes>"
      ]
     },
     "metadata": {
      "needs_background": "light"
     },
     "output_type": "display_data"
    }
   ],
   "source": [
    "logis_reg = LogisticRegression(penalty=\"l1\" ,solver=\"saga\", C=4, max_iter=1000)\n",
    "logis_reg.fit(x_train, y_train)\n",
    "\n",
    "# Get important festures\n",
    "feature_importants = pd.Series(logis_reg.coef_.reshape(27), index=x_train.columns)\n",
    "feature_importants_sorted = feature_importants.sort_values(ascending=False)\n",
    "feature_importants_sorted.plot(kind=\"barh\", figsize=(9, 9))\n",
    "plt.title(\"Feature importants\")\n",
    "plt.show()"
   ]
  },
  {
   "cell_type": "code",
   "execution_count": 68,
   "metadata": {},
   "outputs": [
    {
     "data": {
      "text/plain": [
       "['restecg_0.0', 'restecg_2.0', 'slope_0.0', 'ca_3.0', 'thal_0.0', 'thal_2.0']"
      ]
     },
     "execution_count": 68,
     "metadata": {},
     "output_type": "execute_result"
    }
   ],
   "source": [
    "[x_train.columns[index] for index in np.where(feature_importants == 0)[0]]"
   ]
  },
  {
   "cell_type": "code",
   "execution_count": 71,
   "metadata": {},
   "outputs": [
    {
     "data": {
      "text/plain": [
       "['restecg_0.0', 'restecg_2.0', 'slope_0.0', 'ca_3.0', 'thal_0.0', 'thal_2.0']"
      ]
     },
     "execution_count": 71,
     "metadata": {},
     "output_type": "execute_result"
    }
   ],
   "source": [
    "[x_train.columns[index] for index in np.where(feature_importants == 0)[0]]"
   ]
  },
  {
   "cell_type": "code",
   "execution_count": null,
   "metadata": {},
   "outputs": [],
   "source": []
  }
 ],
 "metadata": {
  "kernelspec": {
   "display_name": "Python 3",
   "language": "python",
   "name": "python3"
  },
  "language_info": {
   "codemirror_mode": {
    "name": "ipython",
    "version": 3
   },
   "file_extension": ".py",
   "mimetype": "text/x-python",
   "name": "python",
   "nbconvert_exporter": "python",
   "pygments_lexer": "ipython3",
   "version": "3.7.1"
  }
 },
 "nbformat": 4,
 "nbformat_minor": 2
}
