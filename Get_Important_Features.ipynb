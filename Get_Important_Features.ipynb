{
 "cells": [
  {
   "cell_type": "code",
   "execution_count": 36,
   "metadata": {},
   "outputs": [],
   "source": [
    "import pandas as pd\n",
    "import numpy as np\n",
    "from sklearn.model_selection import train_test_split\n",
    "from sklearn.preprocessing import StandardScaler\n",
    "from sklearn.preprocessing import OneHotEncoder\n",
    "from sklearn.linear_model import LogisticRegression"
   ]
  },
  {
   "cell_type": "markdown",
   "metadata": {},
   "source": [
    "# 1. Load dataset"
   ]
  },
  {
   "cell_type": "code",
   "execution_count": 2,
   "metadata": {},
   "outputs": [
    {
     "name": "stdout",
     "output_type": "stream",
     "text": [
      "dataset shape: (303, 14)\n"
     ]
    }
   ],
   "source": [
    "data_dir = \"dataset/heart.csv\"\n",
    "dataset = pd.read_csv(data_dir)\n",
    "\n",
    "print(\"dataset shape: {}\".format(dataset.shape))"
   ]
  },
  {
   "cell_type": "markdown",
   "metadata": {},
   "source": [
    "# 2. Split train test"
   ]
  },
  {
   "cell_type": "code",
   "execution_count": 3,
   "metadata": {},
   "outputs": [
    {
     "name": "stdout",
     "output_type": "stream",
     "text": [
      "train_set: (242, 14)\n",
      "test_set: (61, 14)\n"
     ]
    }
   ],
   "source": [
    "train_set, test_set = train_test_split(dataset, test_size=0.2, random_state=42)\n",
    "\n",
    "train_set = pd.DataFrame(train_set.values, columns=train_set.columns)\n",
    "test_set = pd.DataFrame(test_set.values, columns=test_set.columns)\n",
    "\n",
    "print(\"train_set: {}\".format(train_set.shape))\n",
    "print(\"test_set: {}\".format(test_set.shape))"
   ]
  },
  {
   "cell_type": "markdown",
   "metadata": {},
   "source": [
    "# 3. Preprocessing data"
   ]
  },
  {
   "cell_type": "markdown",
   "metadata": {},
   "source": [
    "## 3.1 Numerical"
   ]
  },
  {
   "cell_type": "code",
   "execution_count": 4,
   "metadata": {},
   "outputs": [],
   "source": [
    "numerical_columns = [\"age\", \"trestbps\", \"chol\", \"thalach\", \"oldpeak\"]\n",
    "\n",
    "train_numerical_set = train_set[numerical_columns]\n",
    "\n",
    "std_scaler = StandardScaler()\n",
    "std_scaler.fit(train_numerical_set)\n",
    "train_set_normalized = std_scaler.transform(train_numerical_set)\n",
    "\n",
    "train_set_normalized = pd.DataFrame(train_set_normalized, columns=numerical_columns)"
   ]
  },
  {
   "cell_type": "markdown",
   "metadata": {},
   "source": [
    "## 3.2 Categorical"
   ]
  },
  {
   "cell_type": "markdown",
   "metadata": {},
   "source": [
    "### 3.2.1 Binary"
   ]
  },
  {
   "cell_type": "code",
   "execution_count": 5,
   "metadata": {},
   "outputs": [],
   "source": [
    "binary_columns = [\"exang\", \"fbs\", \"sex\", \"target\"]\n",
    "\n",
    "train_binary_set = train_set[binary_columns]"
   ]
  },
  {
   "cell_type": "markdown",
   "metadata": {},
   "source": [
    "### 3.2.2 Multi class"
   ]
  },
  {
   "cell_type": "code",
   "execution_count": 6,
   "metadata": {},
   "outputs": [],
   "source": [
    "multiclass_columns = [\"cp\", \"restecg\", \"slope\", \"ca\", \"thal\"]\n",
    "\n",
    "train_multiclass_set = train_set[multiclass_columns]\n",
    "\n",
    "encoder = OneHotEncoder(categories=\"auto\")\n",
    "encoder.fit(train_multiclass_set)\n",
    "train_set_encoded = encoder.transform(train_multiclass_set)\n",
    "\n",
    "train_set_encoded = pd.DataFrame(train_set_encoded.toarray(), columns=encoder.get_feature_names(multiclass_columns))"
   ]
  },
  {
   "cell_type": "markdown",
   "metadata": {},
   "source": [
    "## 3.3 Merge"
   ]
  },
  {
   "cell_type": "code",
   "execution_count": 35,
   "metadata": {},
   "outputs": [],
   "source": [
    "train_set_processed = pd.concat([train_set_normalized, train_binary_set, train_set_encoded], axis=1)\n",
    "\n",
    "y_train = train_set_processed[\"target\"].values\n",
    "x_train = train_set_processed.drop([\"target\"], axis=1).values"
   ]
  },
  {
   "cell_type": "markdown",
   "metadata": {},
   "source": [
    "# 4. Get default accuracy"
   ]
  },
  {
   "cell_type": "code",
   "execution_count": 77,
   "metadata": {},
   "outputs": [
    {
     "name": "stdout",
     "output_type": "stream",
     "text": [
      "Accuracy before: 88.02%\n"
     ]
    }
   ],
   "source": [
    "# Fit logistic regression model to dataset without using regularization\n",
    "logis_reg = LogisticRegression(solver=\"lbfgs\", C=1e10)\n",
    "logis_reg.fit(x_train, y_train)\n",
    "acc_before = logis_reg.score(x_train, y_train)\n",
    "\n",
    "print(\"Accuracy before: {:.2f}%\".format(acc_before * 100))"
   ]
  },
  {
   "cell_type": "markdown",
   "metadata": {},
   "source": [
    "# 5. Removing collinearity"
   ]
  },
  {
   "cell_type": "code",
   "execution_count": null,
   "metadata": {},
   "outputs": [],
   "source": []
  },
  {
   "cell_type": "markdown",
   "metadata": {},
   "source": [
    "# 6. F-test\n",
    "\\begin{equation}\n",
    "F = \\frac{(LSS(overall) - LSS(fit)) / p}{LSS(fit) / (n - p - 1)}\n",
    "\\tag{1}\n",
    "\\end{equation}\n",
    "\n",
    "\\begin{equation}\n",
    "LSS(fit) = \\sum_{i=1}^{n} y_i*log(\\hat{y_i}) + (1 - y_i)*log(1 - \\hat{y_i})\n",
    "\\tag{2}\n",
    "\\end{equation}\n",
    "\n",
    "\\begin{equation}\n",
    "LSS(overall) = \\sum_{i=1}^{n} y_i*log(\\frac{len(where(y_i == 1))}{len(y_i)}) + (1 - y_i)*log(1 - \\frac{len(where(y_i == 1))}{len(y_i)})\n",
    "\\tag{3}\n",
    "\\end{equation}\n",
    "\n",
    "When  \n",
    "n: is numbers of observation    \n",
    "p: is numbers of predictor"
   ]
  },
  {
   "cell_type": "code",
   "execution_count": 112,
   "metadata": {},
   "outputs": [
    {
     "name": "stdout",
     "output_type": "stream",
     "text": [
      "LSS_overall: -166.54952811345308\n",
      "LSS_fit: -69.35808000328582\n",
      "F_statistic: 11.106596640480312\n"
     ]
    }
   ],
   "source": [
    "# Calculate LSS(overall)\n",
    "def LSS_overall_cal(y):\n",
    "    overall_prob = len(np.where(y == 1)[0]) / len(y)\n",
    "    LSS_overall = np.sum(np.where(y == 1, np.log(overall_prob + 1e-7), np.log(1 - overall_prob + 1e-7)))\n",
    "    return LSS_overall\n",
    "\n",
    "# Calculate LSS(fit)\n",
    "def LSS_fit_cal(classifier, x, y):\n",
    "    classifier.fit(x, y)\n",
    "    predicted_prob = classifier.predict_proba(x)\n",
    "    LSS_fit = np.sum(np.where(y == 1, np.log(predicted_prob[:, 1] + 1e-7), np.log(predicted_prob[:, 0] + 1e-7)))\n",
    "    return LSS_fit\n",
    "\n",
    "# Calculate F-statistic\n",
    "def F_statistic_cal(classifier, x, y):\n",
    "    n = x.shape[0]\n",
    "    p = x.shape[1]\n",
    "    LSS_overall = LSS_overall_cal(y)\n",
    "    LSS_fit = LSS_fit_cal(classifier, x, y)\n",
    "    F_statistic = ((LSS_overall - LSS_fit) / p) / (LSS_fit / (n - p - 1))\n",
    "    return F_statistic\n",
    "\n",
    "print(\"LSS_overall: {}\".format(LSS_overall_cal(y_train)))\n",
    "print(\"LSS_fit: {}\".format(LSS_fit_cal(LogisticRegression(solver=\"lbfgs\", C=1e10), x_train, y_train)))\n",
    "print(\"F_statistic: {}\".format(F_statistic_cal(LogisticRegression(solver=\"lbfgs\", C=1e10), x_train, y_train)))"
   ]
  },
  {
   "cell_type": "markdown",
   "metadata": {},
   "source": [
    "### From the result of F-test above, F-statistic value is more than 1, hence this indicate that there is relationship between predictors and response."
   ]
  },
  {
   "cell_type": "markdown",
   "metadata": {},
   "source": [
    "# 7. Feature selection"
   ]
  },
  {
   "cell_type": "markdown",
   "metadata": {},
   "source": [
    "## 7.1 Using Tree's feature important"
   ]
  },
  {
   "cell_type": "code",
   "execution_count": null,
   "metadata": {},
   "outputs": [],
   "source": []
  },
  {
   "cell_type": "markdown",
   "metadata": {},
   "source": [
    "## 7.2 Using Subset selection"
   ]
  },
  {
   "cell_type": "markdown",
   "metadata": {},
   "source": [
    "### 7.2.1 Best subset selection"
   ]
  },
  {
   "cell_type": "code",
   "execution_count": null,
   "metadata": {},
   "outputs": [],
   "source": []
  },
  {
   "cell_type": "markdown",
   "metadata": {},
   "source": [
    "### 7.2.2 Forward stepwise selection"
   ]
  },
  {
   "cell_type": "code",
   "execution_count": null,
   "metadata": {},
   "outputs": [],
   "source": []
  },
  {
   "cell_type": "markdown",
   "metadata": {},
   "source": [
    "### 7.2.3 Backward stepwise selection"
   ]
  },
  {
   "cell_type": "code",
   "execution_count": null,
   "metadata": {},
   "outputs": [],
   "source": []
  },
  {
   "cell_type": "markdown",
   "metadata": {},
   "source": [
    "### 7.2.4 Hybrid appoaches"
   ]
  },
  {
   "cell_type": "code",
   "execution_count": null,
   "metadata": {},
   "outputs": [],
   "source": []
  }
 ],
 "metadata": {
  "kernelspec": {
   "display_name": "Python 3",
   "language": "python",
   "name": "python3"
  },
  "language_info": {
   "codemirror_mode": {
    "name": "ipython",
    "version": 3
   },
   "file_extension": ".py",
   "mimetype": "text/x-python",
   "name": "python",
   "nbconvert_exporter": "python",
   "pygments_lexer": "ipython3",
   "version": "3.6.6"
  }
 },
 "nbformat": 4,
 "nbformat_minor": 2
}
