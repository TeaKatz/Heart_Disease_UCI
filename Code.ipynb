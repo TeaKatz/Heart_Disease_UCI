{
 "cells": [
  {
   "cell_type": "code",
   "execution_count": 257,
   "metadata": {},
   "outputs": [],
   "source": [
    "import pandas as pd\n",
    "import matplotlib.pyplot as plt\n",
    "from sklearn.model_selection import train_test_split\n",
    "from sklearn.model_selection import StratifiedShuffleSplit\n",
    "from pandas.plotting import scatter_matrix\n",
    "from sklearn.preprocessing import StandardScaler\n",
    "from sklearn.preprocessing import OneHotEncoder\n",
    "\n",
    "from sklearn.linear_model import SGDClassifier\n",
    "from sklearn.ensemble import RandomForestClassifier\n",
    "from sklearn.tree import DecisionTreeClassifier\n",
    "\n",
    "from sklearn.model_selection import cross_val_score\n",
    "from sklearn.model_selection import cross_val_predict\n",
    "from sklearn.metrics import confusion_matrix\n",
    "from sklearn.metrics import precision_score, recall_score\n",
    "from sklearn.metrics import f1_score\n",
    "from sklearn.metrics import precision_recall_curve\n",
    "from sklearn.metrics import roc_curve"
   ]
  },
  {
   "cell_type": "markdown",
   "metadata": {},
   "source": [
    "# Load dataset"
   ]
  },
  {
   "cell_type": "code",
   "execution_count": 6,
   "metadata": {},
   "outputs": [],
   "source": [
    "data_dir = \"dataset/heart.csv\"\n",
    "dataset = pd.read_csv(data_dir)"
   ]
  },
  {
   "cell_type": "markdown",
   "metadata": {},
   "source": [
    "**age**: age in years >> **numerical**  \n",
    "**sex**: (1 = male; 0 = female) >> **categorical**  \n",
    "**cp**: chest pain type >> **categorical**  \n",
    "**trestbps**: resting blood pressure (in mm Hg on admission to the hospital) >> **numerical**  \n",
    "**chol**: serum cholestoral in mg/dl >> **numerical**  \n",
    "**fbs**: (fasting blood sugar > 120 mg/dl) (1 = true; 0 = false) >> **categorical**  \n",
    "**restecg**: resting electrocardiographic results >> **categorical**  \n",
    "**thalach**: maximum heart rate achieved >> **numerical**  \n",
    "**exang**: exercise induced angina (1 = yes; 0 = no) >> **categorical**  \n",
    "**oldpeak**: ST depression induced by exercise relative to rest >> **numerical**  \n",
    "**slope**: the slope of the peak exercise ST segment >> **categorical**  \n",
    "**ca**: number of major vessels (0-3) colored by flourosopy >> **categorical**  \n",
    "**thal**: 3 = normal; 6 = fixed defect; 7 = reversable defect >> **categorical**  \n",
    "**target**: 1 or 0 >> **categorical**"
   ]
  },
  {
   "cell_type": "markdown",
   "metadata": {},
   "source": [
    "# Explore dataset"
   ]
  },
  {
   "cell_type": "code",
   "execution_count": 7,
   "metadata": {},
   "outputs": [
    {
     "data": {
      "text/html": [
       "<div>\n",
       "<style scoped>\n",
       "    .dataframe tbody tr th:only-of-type {\n",
       "        vertical-align: middle;\n",
       "    }\n",
       "\n",
       "    .dataframe tbody tr th {\n",
       "        vertical-align: top;\n",
       "    }\n",
       "\n",
       "    .dataframe thead th {\n",
       "        text-align: right;\n",
       "    }\n",
       "</style>\n",
       "<table border=\"1\" class=\"dataframe\">\n",
       "  <thead>\n",
       "    <tr style=\"text-align: right;\">\n",
       "      <th></th>\n",
       "      <th>age</th>\n",
       "      <th>sex</th>\n",
       "      <th>cp</th>\n",
       "      <th>trestbps</th>\n",
       "      <th>chol</th>\n",
       "      <th>fbs</th>\n",
       "      <th>restecg</th>\n",
       "      <th>thalach</th>\n",
       "      <th>exang</th>\n",
       "      <th>oldpeak</th>\n",
       "      <th>slope</th>\n",
       "      <th>ca</th>\n",
       "      <th>thal</th>\n",
       "      <th>target</th>\n",
       "    </tr>\n",
       "  </thead>\n",
       "  <tbody>\n",
       "    <tr>\n",
       "      <th>0</th>\n",
       "      <td>63</td>\n",
       "      <td>1</td>\n",
       "      <td>3</td>\n",
       "      <td>145</td>\n",
       "      <td>233</td>\n",
       "      <td>1</td>\n",
       "      <td>0</td>\n",
       "      <td>150</td>\n",
       "      <td>0</td>\n",
       "      <td>2.3</td>\n",
       "      <td>0</td>\n",
       "      <td>0</td>\n",
       "      <td>1</td>\n",
       "      <td>1</td>\n",
       "    </tr>\n",
       "    <tr>\n",
       "      <th>1</th>\n",
       "      <td>37</td>\n",
       "      <td>1</td>\n",
       "      <td>2</td>\n",
       "      <td>130</td>\n",
       "      <td>250</td>\n",
       "      <td>0</td>\n",
       "      <td>1</td>\n",
       "      <td>187</td>\n",
       "      <td>0</td>\n",
       "      <td>3.5</td>\n",
       "      <td>0</td>\n",
       "      <td>0</td>\n",
       "      <td>2</td>\n",
       "      <td>1</td>\n",
       "    </tr>\n",
       "    <tr>\n",
       "      <th>2</th>\n",
       "      <td>41</td>\n",
       "      <td>0</td>\n",
       "      <td>1</td>\n",
       "      <td>130</td>\n",
       "      <td>204</td>\n",
       "      <td>0</td>\n",
       "      <td>0</td>\n",
       "      <td>172</td>\n",
       "      <td>0</td>\n",
       "      <td>1.4</td>\n",
       "      <td>2</td>\n",
       "      <td>0</td>\n",
       "      <td>2</td>\n",
       "      <td>1</td>\n",
       "    </tr>\n",
       "    <tr>\n",
       "      <th>3</th>\n",
       "      <td>56</td>\n",
       "      <td>1</td>\n",
       "      <td>1</td>\n",
       "      <td>120</td>\n",
       "      <td>236</td>\n",
       "      <td>0</td>\n",
       "      <td>1</td>\n",
       "      <td>178</td>\n",
       "      <td>0</td>\n",
       "      <td>0.8</td>\n",
       "      <td>2</td>\n",
       "      <td>0</td>\n",
       "      <td>2</td>\n",
       "      <td>1</td>\n",
       "    </tr>\n",
       "    <tr>\n",
       "      <th>4</th>\n",
       "      <td>57</td>\n",
       "      <td>0</td>\n",
       "      <td>0</td>\n",
       "      <td>120</td>\n",
       "      <td>354</td>\n",
       "      <td>0</td>\n",
       "      <td>1</td>\n",
       "      <td>163</td>\n",
       "      <td>1</td>\n",
       "      <td>0.6</td>\n",
       "      <td>2</td>\n",
       "      <td>0</td>\n",
       "      <td>2</td>\n",
       "      <td>1</td>\n",
       "    </tr>\n",
       "  </tbody>\n",
       "</table>\n",
       "</div>"
      ],
      "text/plain": [
       "   age  sex  cp  trestbps  chol  fbs  restecg  thalach  exang  oldpeak  slope  \\\n",
       "0   63    1   3       145   233    1        0      150      0      2.3      0   \n",
       "1   37    1   2       130   250    0        1      187      0      3.5      0   \n",
       "2   41    0   1       130   204    0        0      172      0      1.4      2   \n",
       "3   56    1   1       120   236    0        1      178      0      0.8      2   \n",
       "4   57    0   0       120   354    0        1      163      1      0.6      2   \n",
       "\n",
       "   ca  thal  target  \n",
       "0   0     1       1  \n",
       "1   0     2       1  \n",
       "2   0     2       1  \n",
       "3   0     2       1  \n",
       "4   0     2       1  "
      ]
     },
     "execution_count": 7,
     "metadata": {},
     "output_type": "execute_result"
    }
   ],
   "source": [
    "dataset.head()"
   ]
  },
  {
   "cell_type": "code",
   "execution_count": 8,
   "metadata": {},
   "outputs": [
    {
     "name": "stdout",
     "output_type": "stream",
     "text": [
      "<class 'pandas.core.frame.DataFrame'>\n",
      "RangeIndex: 303 entries, 0 to 302\n",
      "Data columns (total 14 columns):\n",
      "age         303 non-null int64\n",
      "sex         303 non-null int64\n",
      "cp          303 non-null int64\n",
      "trestbps    303 non-null int64\n",
      "chol        303 non-null int64\n",
      "fbs         303 non-null int64\n",
      "restecg     303 non-null int64\n",
      "thalach     303 non-null int64\n",
      "exang       303 non-null int64\n",
      "oldpeak     303 non-null float64\n",
      "slope       303 non-null int64\n",
      "ca          303 non-null int64\n",
      "thal        303 non-null int64\n",
      "target      303 non-null int64\n",
      "dtypes: float64(1), int64(13)\n",
      "memory usage: 33.2 KB\n"
     ]
    }
   ],
   "source": [
    "dataset.info()"
   ]
  },
  {
   "cell_type": "markdown",
   "metadata": {},
   "source": [
    "#### # No missing data."
   ]
  },
  {
   "cell_type": "code",
   "execution_count": 16,
   "metadata": {},
   "outputs": [
    {
     "data": {
      "image/png": "[encoded data removed]",
      "text/plain": [
       "<Figure size 1224x720 with 16 Axes>"
      ]
     },
     "metadata": {
      "needs_background": "light"
     },
     "output_type": "display_data"
    }
   ],
   "source": [
    "dataset.hist(figsize=(17, 10))\n",
    "plt.show()"
   ]
  },
  {
   "cell_type": "code",
   "execution_count": 21,
   "metadata": {},
   "outputs": [
    {
     "data": {
      "text/plain": [
       "target      1.000000\n",
       "cp          0.433798\n",
       "thalach     0.421741\n",
       "slope       0.345877\n",
       "restecg     0.137230\n",
       "fbs        -0.028046\n",
       "chol       -0.085239\n",
       "trestbps   -0.144931\n",
       "age        -0.225439\n",
       "sex        -0.280937\n",
       "thal       -0.344029\n",
       "ca         -0.391724\n",
       "oldpeak    -0.430696\n",
       "exang      -0.436757\n",
       "Name: target, dtype: float64"
      ]
     },
     "execution_count": 21,
     "metadata": {},
     "output_type": "execute_result"
    }
   ],
   "source": [
    "corr_matrix = dataset.corr()\n",
    "corr_matrix[\"target\"].sort_values(ascending=False)"
   ]
  },
  {
   "cell_type": "markdown",
   "metadata": {},
   "source": [
    "# Train-test split"
   ]
  },
  {
   "cell_type": "markdown",
   "metadata": {},
   "source": [
    "Since we don't know that we should split train-test purely random or base on some attribute, then, we will try both."
   ]
  },
  {
   "cell_type": "code",
   "execution_count": 35,
   "metadata": {},
   "outputs": [
    {
     "name": "stdout",
     "output_type": "stream",
     "text": [
      "train_set: (242, 14)\n",
      "test_set: (61, 14)\n",
      "1    0.549587\n",
      "0    0.450413\n",
      "Name: target, dtype: float64\n",
      "1    0.52459\n",
      "0    0.47541\n",
      "Name: target, dtype: float64\n"
     ]
    }
   ],
   "source": [
    "train_set, test_set = train_test_split(dataset, test_size=0.2, random_state=42)\n",
    "\n",
    "print(\"train_set: {}\".format(train_set.shape))\n",
    "print(\"test_set: {}\".format(test_set.shape))\n",
    "print(train_set[\"target\"].value_counts() / len(train_set))\n",
    "print(test_set[\"target\"].value_counts() / len(test_set))"
   ]
  },
  {
   "cell_type": "code",
   "execution_count": 36,
   "metadata": {},
   "outputs": [
    {
     "name": "stdout",
     "output_type": "stream",
     "text": [
      "train_set: (242, 14)\n",
      "test_set: (61, 14)\n",
      "1    0.545455\n",
      "0    0.454545\n",
      "Name: target, dtype: float64\n",
      "1    0.540984\n",
      "0    0.459016\n",
      "Name: target, dtype: float64\n"
     ]
    }
   ],
   "source": [
    "split = StratifiedShuffleSplit(n_splits=1, test_size=0.2, random_state=42)\n",
    "for train_index, test_index in split.split(dataset, dataset[\"target\"]):\n",
    "    strat_train_set = dataset.loc[train_index]\n",
    "    strat_test_set = dataset.loc[test_index]\n",
    "    \n",
    "print(\"train_set: {}\".format(strat_train_set.shape))\n",
    "print(\"test_set: {}\".format(strat_test_set.shape))\n",
    "print(strat_train_set[\"target\"].value_counts() / len(strat_train_set))\n",
    "print(strat_test_set[\"target\"].value_counts() / len(strat_test_set))"
   ]
  },
  {
   "cell_type": "markdown",
   "metadata": {},
   "source": [
    "# Data preparation"
   ]
  },
  {
   "cell_type": "markdown",
   "metadata": {},
   "source": [
    "#### Do nothing\n",
    "- exang  \n",
    "- fbs  \n",
    "- sex  \n",
    "- target  "
   ]
  },
  {
   "cell_type": "code",
   "execution_count": 165,
   "metadata": {},
   "outputs": [],
   "source": [
    "do_nothing_columns = [\"exang\", \"fbs\", \"sex\", \"target\"]\n",
    "train_set_donothing = pd.DataFrame(train_set[do_nothing_columns].values, columns=do_nothing_columns)\n",
    "test_set_donothing = pd.DataFrame(test_set[do_nothing_columns].values, columns=do_nothing_columns)"
   ]
  },
  {
   "cell_type": "markdown",
   "metadata": {},
   "source": [
    "#### Normalization\n",
    "- age  \n",
    "- trestbps  \n",
    "- chol  \n",
    "- thalach  \n",
    "- oldpeak  "
   ]
  },
  {
   "cell_type": "code",
   "execution_count": 166,
   "metadata": {},
   "outputs": [
    {
     "name": "stderr",
     "output_type": "stream",
     "text": [
      "C:\\Users\\Acer\\Anaconda3\\envs\\tf\\lib\\site-packages\\sklearn\\preprocessing\\data.py:625: DataConversionWarning: Data with input dtype int64, float64 were all converted to float64 by StandardScaler.\n",
      "  return self.partial_fit(X, y)\n",
      "C:\\Users\\Acer\\Anaconda3\\envs\\tf\\lib\\site-packages\\ipykernel_launcher.py:4: DataConversionWarning: Data with input dtype int64, float64 were all converted to float64 by StandardScaler.\n",
      "  after removing the cwd from sys.path.\n",
      "C:\\Users\\Acer\\Anaconda3\\envs\\tf\\lib\\site-packages\\ipykernel_launcher.py:5: DataConversionWarning: Data with input dtype int64, float64 were all converted to float64 by StandardScaler.\n",
      "  \"\"\"\n"
     ]
    }
   ],
   "source": [
    "normalization_columns = [\"age\", \"trestbps\", \"chol\", \"thalach\", \"oldpeak\"]\n",
    "std_scaler = StandardScaler()\n",
    "std_scaler.fit(train_set[normalization_columns])\n",
    "train_set_normalized = pd.DataFrame(std_scaler.transform(train_set[normalization_columns]), columns=normalization_columns)\n",
    "test_set_normalized = pd.DataFrame(std_scaler.transform(test_set[normalization_columns]), columns=normalization_columns)"
   ]
  },
  {
   "cell_type": "markdown",
   "metadata": {},
   "source": [
    "#### One-hot encoder \n",
    "- cp   \n",
    "- restecg  \n",
    "- slope  \n",
    "- ca  \n",
    "- thal    "
   ]
  },
  {
   "cell_type": "code",
   "execution_count": 167,
   "metadata": {},
   "outputs": [],
   "source": [
    "onehot_encoder_columns = [\"cp\", \"restecg\", \"slope\", \"ca\", \"thal\"]\n",
    "train_set_cat = train_set[onehot_encoder_columns]\n",
    "test_set_cat = test_set[onehot_encoder_columns]\n",
    "\n",
    "encoder = OneHotEncoder(categories=\"auto\")\n",
    "encoder.fit(train_set_cat)\n",
    "train_set_encoded = pd.DataFrame(encoder.transform(train_set_cat).toarray(), columns=encoder.get_feature_names(onehot_encoder_columns))\n",
    "test_set_encoded = pd.DataFrame(encoder.transform(test_set_cat).toarray(), columns=encoder.get_feature_names(onehot_encoder_columns))"
   ]
  },
  {
   "cell_type": "markdown",
   "metadata": {},
   "source": [
    "### Merge prepared data"
   ]
  },
  {
   "cell_type": "code",
   "execution_count": 176,
   "metadata": {},
   "outputs": [],
   "source": [
    "train_set_prepared = pd.concat([train_set_donothing, train_set_normalized, train_set_encoded], axis=1)\n",
    "test_set_prepared = pd.concat([test_set_donothing, test_set_normalized, test_set_encoded], axis=1)"
   ]
  },
  {
   "cell_type": "code",
   "execution_count": 183,
   "metadata": {},
   "outputs": [],
   "source": [
    "x_train = train_set_prepared.drop(\"target\", axis=1)\n",
    "y_train = train_set_prepared[\"target\"]\n",
    "x_test = test_set_prepared.drop(\"target\", axis=1)\n",
    "y_test = test_set_prepared[\"target\"]"
   ]
  },
  {
   "cell_type": "markdown",
   "metadata": {},
   "source": [
    "# Find best perform model"
   ]
  },
  {
   "cell_type": "code",
   "execution_count": 281,
   "metadata": {},
   "outputs": [
    {
     "name": "stdout",
     "output_type": "stream",
     "text": [
      "Test on training data\n",
      "Score: 0.8636363636363636\n",
      "\n",
      "Test with Cross-validation\n",
      "Scores: [0.69512195 0.725      0.825     ]\n",
      "Mean: 0.7483739837398374\n",
      "Standard: 0.055538780599141295\n",
      "\n",
      "Test Precision and Recall\n",
      "precision_score: 0.8157894736842105\n",
      "recall_score: 0.6992481203007519\n",
      "f1_score: 0.7530364372469636\n"
     ]
    }
   ],
   "source": [
    "sgd_clf = SGDClassifier(max_iter=1000, tol=1e-3, random_state=42)\n",
    "\n",
    "print(\"Test on training data\")\n",
    "sgd_clf.fit(x_train, y_train)\n",
    "print(\"Score: {}\".format(sgd_clf.score(x_train, y_train)))\n",
    "print()\n",
    "\n",
    "print(\"Test with Cross-validation\")\n",
    "score = cross_val_score(sgd_clf, x_train, y_train, cv=3, scoring=\"accuracy\")\n",
    "print(\"Scores: {}\".format(score))\n",
    "print(\"Mean: {}\".format(score.mean()))\n",
    "print(\"Standard: {}\".format(score.std()))\n",
    "print()\n",
    "\n",
    "print(\"Test Precision and Recall\")\n",
    "y_train_predicted = cross_val_predict(sgd_clf, x_train, y_train, cv=3)\n",
    "print(\"precision_score: {}\".format(precision_score(y_train, y_train_predicted)))\n",
    "print(\"recall_score: {}\".format(recall_score(y_train, y_train_predicted)))\n",
    "print(\"f1_score: {}\".format(f1_score(y_train, y_train_predicted)))"
   ]
  },
  {
   "cell_type": "code",
   "execution_count": 282,
   "metadata": {},
   "outputs": [
    {
     "name": "stdout",
     "output_type": "stream",
     "text": [
      "Test on training data\n",
      "Score: 1.0\n",
      "\n",
      "Test with Cross-validation\n",
      "Scores: [0.82926829 0.7625     0.85      ]\n",
      "Mean: 0.8139227642276423\n",
      "Standard: 0.03733342052976985\n",
      "\n",
      "Test Precision and Recall\n",
      "precision_score: 0.8235294117647058\n",
      "recall_score: 0.8421052631578947\n",
      "f1_score: 0.83271375464684\n"
     ]
    }
   ],
   "source": [
    "forest_clf = RandomForestClassifier(n_estimators=100, random_state=42)\n",
    "\n",
    "print(\"Test on training data\")\n",
    "forest_clf.fit(x_train, y_train)\n",
    "print(\"Score: {}\".format(forest_clf.score(x_train, y_train)))\n",
    "print()\n",
    "\n",
    "print(\"Test with Cross-validation\")\n",
    "score = cross_val_score(forest_clf, x_train, y_train, cv=3, scoring=\"accuracy\")\n",
    "print(\"Scores: {}\".format(score))\n",
    "print(\"Mean: {}\".format(score.mean()))\n",
    "print(\"Standard: {}\".format(score.std()))\n",
    "print()\n",
    "\n",
    "print(\"Test Precision and Recall\")\n",
    "y_train_predicted = cross_val_predict(forest_clf, x_train, y_train, cv=3)\n",
    "print(\"precision_score: {}\".format(precision_score(y_train, y_train_predicted)))\n",
    "print(\"recall_score: {}\".format(recall_score(y_train, y_train_predicted)))\n",
    "print(\"f1_score: {}\".format(f1_score(y_train, y_train_predicted)))"
   ]
  },
  {
   "cell_type": "code",
   "execution_count": 283,
   "metadata": {},
   "outputs": [
    {
     "name": "stdout",
     "output_type": "stream",
     "text": [
      "Test on training data\n",
      "Score: 1.0\n",
      "\n",
      "Test with Cross-validation\n",
      "Scores: [0.68292683 0.6375     0.75      ]\n",
      "Mean: 0.6901422764227642\n",
      "Standard: 0.04621045702889647\n",
      "\n",
      "Test Precision and Recall\n",
      "precision_score: 0.7265625\n",
      "recall_score: 0.6992481203007519\n",
      "f1_score: 0.7126436781609196\n"
     ]
    }
   ],
   "source": [
    "tree_clf = DecisionTreeClassifier(random_state=42)\n",
    "\n",
    "print(\"Test on training data\")\n",
    "tree_clf.fit(x_train, y_train)\n",
    "print(\"Score: {}\".format(tree_clf.score(x_train, y_train)))\n",
    "print()\n",
    "\n",
    "print(\"Test with Cross-validation\")\n",
    "score = cross_val_score(tree_clf, x_train, y_train, cv=3, scoring=\"accuracy\")\n",
    "print(\"Scores: {}\".format(score))\n",
    "print(\"Mean: {}\".format(score.mean()))\n",
    "print(\"Standard: {}\".format(score.std()))\n",
    "print()\n",
    "\n",
    "print(\"Test Precision and Recall\")\n",
    "y_train_predicted = cross_val_predict(tree_clf, x_train, y_train, cv=3)\n",
    "print(\"precision_score: {}\".format(precision_score(y_train, y_train_predicted)))\n",
    "print(\"recall_score: {}\".format(recall_score(y_train, y_train_predicted)))\n",
    "print(\"f1_score: {}\".format(f1_score(y_train, y_train_predicted)))"
   ]
  },
  {
   "cell_type": "markdown",
   "metadata": {},
   "source": [
    "# Fine-tune hyperparameters"
   ]
  },
  {
   "cell_type": "code",
   "execution_count": null,
   "metadata": {},
   "outputs": [],
   "source": []
  },
  {
   "cell_type": "markdown",
   "metadata": {},
   "source": [
    "# Analyze the best model"
   ]
  },
  {
   "cell_type": "code",
   "execution_count": 286,
   "metadata": {},
   "outputs": [
    {
     "data": {
      "image/png": "[encoded data removed]",
      "text/plain": [
       "<Figure size 648x648 with 1 Axes>"
      ]
     },
     "metadata": {
      "needs_background": "light"
     },
     "output_type": "display_data"
    },
    {
     "name": "stdout",
     "output_type": "stream",
     "text": [
      "thal_0       0.000150\n",
      "restecg_2    0.000630\n",
      "ca_4         0.004026\n",
      "slope_0      0.004362\n",
      "thal_1       0.005272\n",
      "fbs          0.007255\n",
      "cp_3         0.008063\n",
      "ca_3         0.010057\n",
      "cp_1         0.010912\n",
      "restecg_1    0.013093\n",
      "restecg_0    0.013279\n",
      "ca_2         0.014024\n",
      "cp_2         0.025039\n",
      "sex          0.028873\n",
      "slope_2      0.030684\n",
      "ca_1         0.030741\n",
      "slope_1      0.031330\n",
      "thal_3       0.063344\n",
      "chol         0.064393\n",
      "trestbps     0.066522\n",
      "exang        0.069671\n",
      "cp_0         0.072310\n",
      "thal_2       0.076545\n",
      "ca_0         0.078182\n",
      "age          0.079892\n",
      "thalach      0.082420\n",
      "oldpeak      0.108929\n",
      "dtype: float64\n"
     ]
    }
   ],
   "source": [
    "feature_importances = pd.Series(forest_clf.feature_importances_.reshape(27), index=x_train.columns)\n",
    "feature_importances_sorted = feature_importances.sort_values(ascending=True)\n",
    "feature_importances_sorted.plot(kind=\"barh\", figsize=(9, 9))\n",
    "plt.title(\"Feature importances using RandomForestClassifier\")\n",
    "plt.show()\n",
    "print(feature_importances_sorted)"
   ]
  },
  {
   "cell_type": "code",
   "execution_count": 288,
   "metadata": {},
   "outputs": [
    {
     "data": {
      "image/png": "[encoded data removed]",
      "text/plain": [
       "<Figure size 648x648 with 1 Axes>"
      ]
     },
     "metadata": {
      "needs_background": "light"
     },
     "output_type": "display_data"
    },
    {
     "name": "stdout",
     "output_type": "stream",
     "text": [
      "ca_2        -11.921535\n",
      "sex          -8.670207\n",
      "cp_0         -7.586431\n",
      "ca_1         -6.502655\n",
      "thal_3       -5.418879\n",
      "cp_1         -4.335104\n",
      "slope_1      -4.335104\n",
      "exang        -4.335104\n",
      "trestbps     -4.001066\n",
      "ca_3         -3.251328\n",
      "slope_0      -2.167552\n",
      "oldpeak      -2.068470\n",
      "chol         -1.851333\n",
      "restecg_2    -1.083776\n",
      "restecg_0    -1.083776\n",
      "thal_0        0.000000\n",
      "thalach       1.068900\n",
      "thal_2        1.083776\n",
      "age           1.533847\n",
      "restecg_1     2.167552\n",
      "fbs           3.251328\n",
      "cp_2          4.335104\n",
      "thal_1        4.335104\n",
      "ca_0          5.418879\n",
      "slope_2       6.502655\n",
      "cp_3          7.586431\n",
      "ca_4         16.256638\n",
      "dtype: float64\n"
     ]
    }
   ],
   "source": [
    "feature_importances = pd.Series(sgd_clf.coef_.reshape(27), index=x_train.columns)\n",
    "feature_importances_sorted = feature_importances.sort_values(ascending=True)\n",
    "feature_importances_sorted.plot(kind=\"barh\", figsize=(9, 9))\n",
    "plt.title(\"Feature importances using SGDClassifier\")\n",
    "plt.show()\n",
    "print(feature_importances_sorted)"
   ]
  },
  {
   "cell_type": "code",
   "execution_count": null,
   "metadata": {},
   "outputs": [],
   "source": []
  }
 ],
 "metadata": {
  "kernelspec": {
   "display_name": "Python 3",
   "language": "python",
   "name": "python3"
  },
  "language_info": {
   "codemirror_mode": {
    "name": "ipython",
    "version": 3
   },
   "file_extension": ".py",
   "mimetype": "text/x-python",
   "name": "python",
   "nbconvert_exporter": "python",
   "pygments_lexer": "ipython3",
   "version": "3.7.3"
  }
 },
 "nbformat": 4,
 "nbformat_minor": 2
}
